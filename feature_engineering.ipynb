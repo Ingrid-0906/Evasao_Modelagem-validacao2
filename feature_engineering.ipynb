{
 "cells": [
  {
   "cell_type": "markdown",
   "metadata": {},
   "source": [
    "# Feature Engineering\n",
    "\n",
    "## Propósito\n",
    "O principal objetivo desse estudo é descobrir as características que capturem tendências, sazonalidades, autocorrelações e outras informações temporais relevantes nos dados de séries temporais, tais como o histórico relacionado à carteira de investimentos, patrimônios em geral e produtos.\n",
    "\n",
    "## Fases do Estudo\n",
    "- Fase 1: Validar a presença de multicolinearidade entre as variáveis:\n",
    "        patrimonio_total, patrimonio_xp, pl_investimentos_declarado pl_total\n",
    "e todas as posições de produtos.\n",
    "- Fase 2: Validada a presença ou não, seguir com a engenharia com todas as variáveis que representam posição. Com isso teremos 396 novos features para modelagem.\n",
    "\n",
    "## Parâmetros do estudo\n",
    "Para capturar tendências, sazonalidades e autocorrelações em dados, será empregado as algumas técnicas de feature engineering. Aqui estão algumas abordagens que foi considerado de valor:\n",
    "\n",
    "1. Transformações de Dados: Aplicar a diferenciação ou suavização exponencial, para capturar tendências e sazonalidades.\n",
    "\n",
    "2. Médias Móveis: Calcular tendências locais ao longo do tempo pode ser útil. Isso pode ajudar a suavizar os dados e destacar padrões de tendência.\n",
    "\n",
    "3. Decomposição de Séries Temporais: Usar técnicas de decomposição, como a decomposição de séries temporais aditiva ou multiplicativa, para separar os dados em componentes de tendência, sazonalidade e ruído, facilitando a análise desses padrões.\n",
    "\n",
    "4. Variáveis de Rolling Window: Criar variáveis que representam estatísticas agregadas ao longo de uma janela deslizante no tempo, como médias móveis, desvios padrão móveis, mínimos, máximos, etc.\n",
    "\n",
    "*** Não foi possível proceguir devido a falta de exemplos (>24)\n",
    "\n",
    "5. Variáveis de Diferenciação: Além das diferenças de primeira ordem, também foi considerado as diferenças sazonais ou de ordem superior para capturar padrões mais complexos nos dados.\n"
   ]
  },
  {
   "cell_type": "markdown",
   "metadata": {},
   "source": [
    "## Fonte de dados\n",
    "Foram selecionadas as seguintes features da base de dados:\n",
    "\n"
   ]
  },
  {
   "cell_type": "code",
   "execution_count": 1,
   "metadata": {},
   "outputs": [
    {
     "name": "stderr",
     "output_type": "stream",
     "text": [
      "C:\\Users\\Wande\\AppData\\Local\\Temp\\ipykernel_13704\\2677817226.py:3: DtypeWarning: Columns (136,174) have mixed types. Specify dtype option on import or set low_memory=False.\n",
      "  dataset = pd.read_csv('base_teste_m.csv').set_index(['account_xp_code'])\n"
     ]
    }
   ],
   "source": [
    "import pandas as pd\n",
    "\n",
    "dataset = pd.read_csv('base_teste_m.csv').set_index(['account_xp_code'])"
   ]
  },
  {
   "cell_type": "code",
   "execution_count": 2,
   "metadata": {},
   "outputs": [],
   "source": [
    "# Filtrando dados or colunas // 'ano_mes/mes'\n",
    "data = dataset.filter([\n",
    "    'account_xp_code','patrimonio_total', 'ano_mes/mes',\n",
    "    'patrimonio_xp','pl_investimentos_declarado','pl_kilima','pl_offshore_brl',\n",
    "    'pl_offshore_brl_avenue','pl_offshore_usd','pl_offshore_usd_avenue','pl_rv',\n",
    "    'pl_total','pl_wealth',\n",
    "    \n",
    "    'posicao_acoes','posicao_aluguel',\n",
    "    'posicao_clubesdeinvestimento','posicao_coe','posicao_compromissadas','posicao_fia',\n",
    "    'posicao_fim','posicao_firf',\n",
    "    \n",
    "    'posicao_fundos_alternativos','posicao_fundos_deinflacao',\n",
    "    'posicao_fundos_internacionais','posicao_fundos_multimercados','posicao_fundos_rendafixa_posfixado',\n",
    "    'posicao_fundos_rendafixa_prefixado','posicao_fundosdeinvestimento','posicao_fundosimobiliarios',\n",
    "    'posicao_mercadoriasefuturos','posicao_opcoes','posicao_opcoes_derivativos_de_balcao',\n",
    "    'posicao_opcoes_opcoes','posicao_ouro','posicao_portfolio_alternativos',\n",
    "    'posicao_portfolio_inflacao','posicao_portfolio_internacional','posicao_portfolio_multimercados',\n",
    "    'posicao_portfolio_posfixado','posicao_portfolio_prefixado','posicao_portfolio_rendavariavel',\n",
    "    'posicao_previdenciaprivada','posicao_produtosestruturados','posicao_proventos',\n",
    "    'posicao_proventos_acoes','posicao_proventos_fundosimobiliarios','posicao_proventos_rendafixa',\n",
    "    'posicao_rendafixa','posicao_rendafixa_inflacao','posicao_rendafixa_posfixada',\n",
    "    'posicao_rendafixa_prefixada','posicao_seguros','posicao_termos',\n",
    "    'posicao_tesourodireto','posicao_tesourodireto_inflacao','posicao_tesourodireto_posfixada',\n",
    "    'posicao_tesourodireto_prefixada',\n",
    "    \n",
    "    'possui_kilima','qualificacao','saldo_disponivel',\n",
    "    'suitability','assessor_username_m1','diversificacao','equipe_atual_name','faixa_pld',\n",
    "    'filial_name','flag_base_adquirida',\n",
    "    'life_planning_stage','meta','monthly_income','nps_enviado',\n",
    "    'nps_respondido','pl_financeiro','possuiapolice','praca','ref_receita',\n",
    "    'segmento','total_first_meetings','total_geral','total_produtos','evadido',\n",
    "    'contato_assessor','contato_investor','contato_operador','address_state','life_planning_stage',\n",
    "    'main_bank_name','maritial_status','occupation','is_fake','mes'])\n",
    "\n",
    "# Sem fake\n",
    "data = data[data['is_fake'] == 0.0]\n",
    "\n",
    "# Renomear a coluna 'evadido' para sinalizar a flag\n",
    "data.rename(columns={'evadido': 'flag_pl_inativo'}, inplace=True)"
   ]
  },
  {
   "cell_type": "code",
   "execution_count": 3,
   "metadata": {},
   "outputs": [],
   "source": [
    "# Agrupando variaveis similares\n",
    "data['posicao_fnd'] = data['posicao_fundos_alternativos']+data['posicao_fundos_deinflacao']+data['posicao_fundos_internacionais']+data['posicao_fundos_multimercados']+data['posicao_fundos_rendafixa_posfixado']+data['posicao_fundos_rendafixa_prefixado']+data['posicao_fundosdeinvestimento']+data['posicao_fundosimobiliarios']\n",
    "data['posicao_opcao'] = data['posicao_opcoes']+data['posicao_opcoes_derivativos_de_balcao']+data['posicao_opcoes_opcoes']\n",
    "data['posicao_prt'] = data['posicao_portfolio_alternativos'] + data['posicao_portfolio_inflacao']+data['posicao_portfolio_internacional']+data['posicao_portfolio_multimercados']+data['posicao_portfolio_posfixado']+data['posicao_portfolio_prefixado']+data['posicao_portfolio_rendavariavel']\n",
    "data['posicao_pvt'] = data['posicao_proventos']+data['posicao_proventos_acoes']+data['posicao_proventos_fundosimobiliarios']+data['posicao_proventos_rendafixa']\n",
    "data['posicao_rf'] = data['posicao_rendafixa']+data['posicao_rendafixa_inflacao']+data['posicao_rendafixa_posfixada']+data['posicao_rendafixa_prefixada']\n",
    "data['posicao_tsr'] = data['posicao_tesourodireto']+data['posicao_tesourodireto_inflacao']+data['posicao_tesourodireto_posfixada']+data['posicao_tesourodireto_prefixada']\n",
    "\n",
    "data.drop(columns=['is_fake','posicao_fundos_alternativos','posicao_fundos_deinflacao',\n",
    "                'posicao_fundos_internacionais','posicao_fundos_multimercados',\n",
    "                'posicao_fundos_rendafixa_posfixado','posicao_fundos_rendafixa_prefixado',\n",
    "                'posicao_fundosdeinvestimento','posicao_fundosimobiliarios',\n",
    "                'posicao_opcoes','posicao_opcoes_derivativos_de_balcao',\n",
    "                'posicao_opcoes_opcoes','posicao_portfolio_alternativos',\n",
    "                'posicao_portfolio_inflacao','posicao_portfolio_internacional',\n",
    "                'posicao_portfolio_multimercados','posicao_portfolio_posfixado',\n",
    "                'posicao_portfolio_prefixado','posicao_portfolio_rendavariavel',\n",
    "                'posicao_proventos','posicao_proventos_acoes','posicao_proventos_fundosimobiliarios',\n",
    "                'posicao_proventos_rendafixa','posicao_rendafixa','posicao_rendafixa_inflacao',\n",
    "                'posicao_rendafixa_posfixada','posicao_rendafixa_prefixada',\n",
    "                'posicao_tesourodireto','posicao_tesourodireto_inflacao',\n",
    "                'posicao_tesourodireto_posfixada','posicao_tesourodireto_prefixada'], axis=1, inplace=True)"
   ]
  },
  {
   "cell_type": "code",
   "execution_count": 4,
   "metadata": {},
   "outputs": [],
   "source": [
    "# TOTAL CONTATO\n",
    "data['total_contato'] = data['contato_assessor']+data['contato_investor']+data['contato_operador']\n",
    "data.drop(['contato_assessor', 'contato_investor', 'contato_operador'], axis=1, inplace=True)"
   ]
  },
  {
   "cell_type": "markdown",
   "metadata": {},
   "source": [
    "## Evadido\n",
    "\n",
    "Considerar o cliente que possui 2 meses com pl_total zerado.\n"
   ]
  },
  {
   "cell_type": "code",
   "execution_count": 5,
   "metadata": {},
   "outputs": [],
   "source": [
    "# Agrupando por account_xp_code\n",
    "grouped = data.groupby(level=0)\n",
    "\n",
    "# Verificando se as últimas duas linhas de cada grupo são 0 e atribuindo 1 ou 0\n",
    "data['evasao_pl'] = grouped['pl_total'].transform(lambda x: int((x.tail(2) <= 0).all()))"
   ]
  },
  {
   "cell_type": "code",
   "execution_count": 6,
   "metadata": {},
   "outputs": [
    {
     "data": {
      "text/html": [
       "<div>\n",
       "<style scoped>\n",
       "    .dataframe tbody tr th:only-of-type {\n",
       "        vertical-align: middle;\n",
       "    }\n",
       "\n",
       "    .dataframe tbody tr th {\n",
       "        vertical-align: top;\n",
       "    }\n",
       "\n",
       "    .dataframe thead th {\n",
       "        text-align: right;\n",
       "    }\n",
       "</style>\n",
       "<table border=\"1\" class=\"dataframe\">\n",
       "  <thead>\n",
       "    <tr style=\"text-align: right;\">\n",
       "      <th></th>\n",
       "      <th>pl_total</th>\n",
       "      <th>evasao_pl</th>\n",
       "      <th>evadido</th>\n",
       "    </tr>\n",
       "    <tr>\n",
       "      <th>account_xp_code</th>\n",
       "      <th></th>\n",
       "      <th></th>\n",
       "      <th></th>\n",
       "    </tr>\n",
       "  </thead>\n",
       "  <tbody>\n",
       "    <tr>\n",
       "      <th>237104</th>\n",
       "      <td>193.210000</td>\n",
       "      <td>1</td>\n",
       "      <td>False</td>\n",
       "    </tr>\n",
       "    <tr>\n",
       "      <th>237104</th>\n",
       "      <td>193.010000</td>\n",
       "      <td>1</td>\n",
       "      <td>False</td>\n",
       "    </tr>\n",
       "    <tr>\n",
       "      <th>237104</th>\n",
       "      <td>193.690002</td>\n",
       "      <td>1</td>\n",
       "      <td>False</td>\n",
       "    </tr>\n",
       "    <tr>\n",
       "      <th>237104</th>\n",
       "      <td>194.309998</td>\n",
       "      <td>1</td>\n",
       "      <td>True</td>\n",
       "    </tr>\n",
       "    <tr>\n",
       "      <th>237104</th>\n",
       "      <td>63.340000</td>\n",
       "      <td>1</td>\n",
       "      <td>False</td>\n",
       "    </tr>\n",
       "    <tr>\n",
       "      <th>237104</th>\n",
       "      <td>118.209999</td>\n",
       "      <td>1</td>\n",
       "      <td>False</td>\n",
       "    </tr>\n",
       "    <tr>\n",
       "      <th>237104</th>\n",
       "      <td>119.440002</td>\n",
       "      <td>1</td>\n",
       "      <td>False</td>\n",
       "    </tr>\n",
       "    <tr>\n",
       "      <th>237104</th>\n",
       "      <td>120.459999</td>\n",
       "      <td>1</td>\n",
       "      <td>False</td>\n",
       "    </tr>\n",
       "    <tr>\n",
       "      <th>237104</th>\n",
       "      <td>120.830002</td>\n",
       "      <td>1</td>\n",
       "      <td>False</td>\n",
       "    </tr>\n",
       "    <tr>\n",
       "      <th>237104</th>\n",
       "      <td>122.010002</td>\n",
       "      <td>1</td>\n",
       "      <td>False</td>\n",
       "    </tr>\n",
       "    <tr>\n",
       "      <th>237104</th>\n",
       "      <td>122.940002</td>\n",
       "      <td>1</td>\n",
       "      <td>True</td>\n",
       "    </tr>\n",
       "    <tr>\n",
       "      <th>237104</th>\n",
       "      <td>0.000000</td>\n",
       "      <td>1</td>\n",
       "      <td>False</td>\n",
       "    </tr>\n",
       "    <tr>\n",
       "      <th>237104</th>\n",
       "      <td>0.000000</td>\n",
       "      <td>1</td>\n",
       "      <td>False</td>\n",
       "    </tr>\n",
       "  </tbody>\n",
       "</table>\n",
       "</div>"
      ],
      "text/plain": [
       "                   pl_total  evasao_pl  evadido\n",
       "account_xp_code                                \n",
       "237104           193.210000          1    False\n",
       "237104           193.010000          1    False\n",
       "237104           193.690002          1    False\n",
       "237104           194.309998          1     True\n",
       "237104            63.340000          1    False\n",
       "237104           118.209999          1    False\n",
       "237104           119.440002          1    False\n",
       "237104           120.459999          1    False\n",
       "237104           120.830002          1    False\n",
       "237104           122.010002          1    False\n",
       "237104           122.940002          1     True\n",
       "237104             0.000000          1    False\n",
       "237104             0.000000          1    False"
      ]
     },
     "execution_count": 6,
     "metadata": {},
     "output_type": "execute_result"
    }
   ],
   "source": [
    "# Resultado\n",
    "data.loc[237104][['pl_total', 'evasao_pl', 'evadido']]"
   ]
  },
  {
   "cell_type": "markdown",
   "metadata": {},
   "source": [
    "## Tratamento de dados"
   ]
  },
  {
   "cell_type": "markdown",
   "metadata": {},
   "source": [
    "### Pt.1 - Análise\n",
    "\n",
    "- float64    (64)\n",
    "- object     (18)\n",
    "- int64       (7)\n",
    "- bool        (4)"
   ]
  },
  {
   "cell_type": "code",
   "execution_count": 7,
   "metadata": {},
   "outputs": [
    {
     "data": {
      "text/plain": [
       "float64    39\n",
       "object     14\n",
       "int64       7\n",
       "bool        4\n",
       "Name: count, dtype: int64"
      ]
     },
     "execution_count": 7,
     "metadata": {},
     "output_type": "execute_result"
    }
   ],
   "source": [
    "data.dtypes.value_counts()"
   ]
  },
  {
   "cell_type": "code",
   "execution_count": 8,
   "metadata": {},
   "outputs": [
    {
     "data": {
      "text/plain": [
       "occupation              0.046631\n",
       "assessor_username_m1    0.013038\n",
       "qualificacao            0.009258\n",
       "praca                   0.005500\n",
       "suitability             0.001826\n",
       "equipe_atual_name       0.000531\n",
       "filial_name             0.000531\n",
       "segmento                0.000531\n",
       "address_state           0.000064\n",
       "ano_mes/mes             0.000000\n",
       "faixa_pld               0.000000\n",
       "life_planning_stage     0.000000\n",
       "main_bank_name          0.000000\n",
       "maritial_status         0.000000\n",
       "dtype: float64"
      ]
     },
     "execution_count": 8,
     "metadata": {},
     "output_type": "execute_result"
    }
   ],
   "source": [
    "# Filter columns with int64 data type\n",
    "object_columns = data.select_dtypes(include='object').columns\n",
    "\n",
    "# Filter DataFrame to include only columns with int64 data type\n",
    "df_object = data[object_columns]\n",
    "\n",
    "# Group by 'xp_code' and count NaN values in 'nps' column\n",
    "na_counts_object = df_object.groupby(df_object.index).apply(lambda x: x.isnull().sum()).sum()/len(df_object.index)\n",
    "\n",
    "na_counts_object.sort_values(ascending=False)"
   ]
  },
  {
   "cell_type": "code",
   "execution_count": 9,
   "metadata": {},
   "outputs": [
    {
     "data": {
      "text/plain": [
       "posicao_compromissadas          1.000000\n",
       "pl_offshore_brl_avenue          1.000000\n",
       "pl_offshore_usd_avenue          1.000000\n",
       "pl_wealth                       0.999618\n",
       "total_contato                   0.976791\n",
       "total_first_meetings            0.922281\n",
       "posicao_prt                     0.165141\n",
       "posicao_previdenciaprivada      0.161383\n",
       "posicao_produtosestruturados    0.161383\n",
       "posicao_seguros                 0.161383\n",
       "posicao_termos                  0.161383\n",
       "posicao_fnd                     0.161383\n",
       "posicao_firf                    0.161383\n",
       "posicao_opcao                   0.161383\n",
       "posicao_pvt                     0.161383\n",
       "posicao_rf                      0.161383\n",
       "posicao_tsr                     0.161383\n",
       "posicao_ouro                    0.161383\n",
       "patrimonio_total                0.161383\n",
       "posicao_acoes                   0.161383\n",
       "dtype: float64"
      ]
     },
     "execution_count": 9,
     "metadata": {},
     "output_type": "execute_result"
    }
   ],
   "source": [
    "# Filter columns with int64 data type\n",
    "float64_columns = data.select_dtypes(include='float64').columns\n",
    "\n",
    "# Filter DataFrame to include only columns with int64 data type\n",
    "df_float64 = data[float64_columns]\n",
    "\n",
    "# Group by 'xp_code' and count NaN values in 'nps' column\n",
    "na_counts_float64 = df_float64.groupby(df_float64.index).apply(lambda x: x.isnull().sum()).sum()/len(df_float64.index)\n",
    "\n",
    "na_counts_float64.sort_values(ascending=False)[:20]"
   ]
  },
  {
   "cell_type": "code",
   "execution_count": 10,
   "metadata": {},
   "outputs": [
    {
     "data": {
      "text/plain": [
       "diversificacao    0.0\n",
       "meta              0.0\n",
       "nps_enviado       0.0\n",
       "nps_respondido    0.0\n",
       "possuiapolice     0.0\n",
       "mes               0.0\n",
       "evasao_pl         0.0\n",
       "dtype: float64"
      ]
     },
     "execution_count": 10,
     "metadata": {},
     "output_type": "execute_result"
    }
   ],
   "source": [
    "# Filter columns with int64 data type\n",
    "int64_columns = data.select_dtypes(include='int64').columns\n",
    "\n",
    "# Filter DataFrame to include only columns with int64 data type\n",
    "df_int64 = data[int64_columns]\n",
    "\n",
    "# Group by 'xp_code' and count NaN values in 'nps' column\n",
    "na_counts_int64 = df_int64.groupby(df_int64.index).apply(lambda x: x.isnull().sum()).sum()/len(df_float64.index)\n",
    "\n",
    "na_counts_int64.sort_values(ascending=False)[:20]"
   ]
  },
  {
   "cell_type": "code",
   "execution_count": 11,
   "metadata": {},
   "outputs": [
    {
     "data": {
      "text/plain": [
       "possui_kilima          0.0\n",
       "flag_base_adquirida    0.0\n",
       "evadido                0.0\n",
       "is_fake                0.0\n",
       "dtype: float64"
      ]
     },
     "execution_count": 11,
     "metadata": {},
     "output_type": "execute_result"
    }
   ],
   "source": [
    "# Filter columns with int64 data type\n",
    "bool_columns = data.select_dtypes(include='bool').columns\n",
    "\n",
    "# Filter DataFrame to include only columns with int64 data type\n",
    "df_bool = data[bool_columns]\n",
    "\n",
    "# Group by 'xp_code' and count NaN values in 'nps' column\n",
    "na_counts_bool = df_bool.groupby(df_bool.index).apply(lambda x: x.isnull().sum()).sum()/len(df_float64.index)\n",
    "\n",
    "na_counts_bool.sort_values(ascending=False)[:20]"
   ]
  },
  {
   "cell_type": "markdown",
   "metadata": {},
   "source": [
    "### Pt. 2 - Processamento\n",
    "\n",
    "Procedimento para organizar os dados antes da análise:\n",
    "1. Manipular as categorias\n",
    "2. Preencher valores nulos existentes\n"
   ]
  },
  {
   "cell_type": "code",
   "execution_count": 12,
   "metadata": {},
   "outputs": [],
   "source": [
    "# Preenchendo os nulos\n",
    "mode_dt = data.mode(dropna=True)\n",
    "column_object = data.select_dtypes(include='object').columns\n",
    "\n",
    "for x in column_object:\n",
    "    data[x] = data[x].fillna(mode_dt[x][0])\n",
    "\n",
    "data[data.select_dtypes('float64').columns] = data[data.select_dtypes('float64').columns].fillna(0.0)"
   ]
  },
  {
   "cell_type": "code",
   "execution_count": 13,
   "metadata": {},
   "outputs": [],
   "source": [
    "# %pip install Unidecode"
   ]
  },
  {
   "cell_type": "code",
   "execution_count": 14,
   "metadata": {},
   "outputs": [
    {
     "name": "stderr",
     "output_type": "stream",
     "text": [
      "C:\\Users\\Wande\\AppData\\Local\\Temp\\ipykernel_13704\\1000235082.py:4: FutureWarning: DataFrame.applymap has been deprecated. Use DataFrame.map instead.\n",
      "  data[data.select_dtypes(include='object').columns] = data[data.select_dtypes('object').columns].applymap(\n"
     ]
    }
   ],
   "source": [
    "from unidecode import unidecode\n",
    "\n",
    "# lowercase os categoricos\n",
    "data[data.select_dtypes(include='object').columns] = data[data.select_dtypes('object').columns].applymap(\n",
    "    lambda s:s.lower() if type(s) == str else s\n",
    "    ).applymap(\n",
    "        lambda s:unidecode(s) if type(s) == str else s\n",
    "    )"
   ]
  },
  {
   "cell_type": "code",
   "execution_count": 15,
   "metadata": {},
   "outputs": [],
   "source": [
    "# ocupation - corrigir entradas\n",
    "data['occupation'].str.replace(' - ','')\n",
    "data['occupation'] = data['occupation'].apply(lambda x: x == 'outros' if x in ['--','nenhuma','aai','w','product','.','ibmec','afr'] == True else x)"
   ]
  },
  {
   "cell_type": "code",
   "execution_count": 16,
   "metadata": {},
   "outputs": [],
   "source": [
    "# Ocupação\n",
    "# Substituindo os valores hardcoded (devido ao replace apenas suportar ate 7 entradas)\n",
    "data['occupation'] = data['occupation'].replace({'do lar': 'desempregado',\n",
    "                            'eng': 'engenheiro',\n",
    "                            'eng.': 'engenheiro',\n",
    "                            'funcionario publico': 'servidor',\n",
    "                            'customer success account manager':'gerente',\n",
    "                            'superior, inspetor e agente de compras e vendas':'comprador',\n",
    "                            'membro do poder judiciario: ministro do supremo trib sup': 'ministro'})\n",
    "\n",
    "data['occupation'] = data['occupation'].replace({'trabalhador de instalacoes de processamento quimico': 'quimico',\n",
    "                                                'trabalhador de artes graficas': 'designer',\n",
    "                                                'profissionais de letras e de artes': 'professor',\n",
    "                                                'trabalhador de construcao civil - 709': 'pedreiro',\n",
    "                                                'industria de produtos farmaceuticos': 'farmaceutico',\n",
    "                                                'trabalhador metalurgico e siderurgico': 'metalurgico',\n",
    "                                                'relacoes publicas': 'publicitario'})\n",
    "\n",
    "data['occupation'] = data['occupation'].replace({'relaçoes institucionais': 'publicitario',\n",
    "                                                'comunicologo': 'publicitario',\n",
    "                                                'trabalhador agricola': 'fazendeiro',\n",
    "                                                'profissional liberal': 'autonomo',\n",
    "                                                'investment advisor': 'advisor',\n",
    "                                                'head de investimentos': 'investimentos',\n",
    "                                                'representante comercial': 'comercial'})\n",
    "\n",
    "data['occupation'] = data['occupation'].replace({'agente autonomo de investimentos': 'assessor',\n",
    "                                                'prod de conteudo digital': 'marketing',\n",
    "                                                'instituicoes financeiras, sociedades': 'socio',\n",
    "                                                'oficiais das forcas armadas e forcas auxiliares': 'militar',\n",
    "                                                'capitalista recebendo rendimento de aplicacao de capital': 'investidor',\n",
    "                                                'servicos de reparacao e manutencao': 'tecnico',\n",
    "                                                'outros trabalhadores de nivel superior ligados ao ensino': 'professor'})\n",
    "\n",
    "data['occupation'] = data['occupation'].replace({'ramo de construção civil': 'construcao',\n",
    "                                                'cap da reserva remunerada do exercito': 'capitao',\n",
    "                                                'trab. autonomo': 'autonomo',\n",
    "                                                'socio-diretor': 'socio',\n",
    "                                                'coord de supply chain': 'coordenador',\n",
    "                                                'funcionario publico': 'servidor'})\n",
    "\n",
    "# Extraindo apenas a primeira ocorrencia da array\n",
    "data['occupation'] = data['occupation'].apply(lambda x: str(x).split()[0] if len(str(x).split())>1 else str(x))\n",
    "\n",
    "# [Depois da 1° substituicao] Subsitituindo os categoricos que são femininos que repetem\n",
    "data['occupation'] = data['occupation'].replace({'ger': 'gerente',\n",
    "                                                'autonoma': 'autonomo',\n",
    "                                                'socia': 'socio',\n",
    "                                                'professora': 'professor',\n",
    "                                                'aposentada': 'aposentado',\n",
    "                                                'empresaria': 'empresario',\n",
    "                                                'advogada': 'advogado'})\n",
    "\n",
    "data['occupation'] = data['occupation'].replace({'tecnica': 'tecnico',\n",
    "                                                'psicologa': 'psicologo',\n",
    "                                                'consultora': 'consultor',\n",
    "                                                'medica': 'medico',\n",
    "                                                'tradutora': 'tradutor',\n",
    "                                                'coordenadora': 'coordenador',\n",
    "                                                'biomedica': 'biomedico'})\n",
    "\n",
    "data['occupation'] = data['occupation'].replace({'fotografa': 'fotografo',\n",
    "                                            'produtora': 'produtor',\n",
    "                                            'escriva': 'escrivao',\n",
    "                                            'consultora': 'consultor',\n",
    "                                            'juiza': 'juiz',\n",
    "                                            'eng': 'engenheiro',\n",
    "                                            'eng.': 'engenheiro'})"
   ]
  },
  {
   "cell_type": "code",
   "execution_count": 17,
   "metadata": {},
   "outputs": [],
   "source": [
    "# Qualificacao\n",
    "# Extraindo apenas a segunda ocorrencia da array\n",
    "data['qualificacao'] = data['qualificacao'].apply(lambda x: str(x).split()[1] if len(str(x).split())>1 else str(x))"
   ]
  },
  {
   "cell_type": "code",
   "execution_count": 18,
   "metadata": {},
   "outputs": [],
   "source": [
    "# Bancos\n",
    "data['main_bank_name'] = data['main_bank_name'].replace({'banco ':''})\n",
    "data['main_bank_name'] = data['main_bank_name'].apply(lambda x: str(x).strip().split()[0] if len(str(x).split())>1 else str(x))"
   ]
  },
  {
   "cell_type": "code",
   "execution_count": 19,
   "metadata": {},
   "outputs": [],
   "source": [
    "# Estado Civil\n",
    "data['maritial_status'] = data['maritial_status'].replace({\n",
    "    'casado(a) com brasileiro(a)  nato(a)': 'casado(a) nativo',\n",
    "    'casado(a) com estrangeiro(a)': 'casado(a) natural',\n",
    "    'casado(a) com brasileiro(a) naturalizado': 'casado(a) natural',\n",
    "})"
   ]
  },
  {
   "cell_type": "code",
   "execution_count": 20,
   "metadata": {},
   "outputs": [
    {
     "name": "stderr",
     "output_type": "stream",
     "text": [
      "C:\\Users\\Wande\\AppData\\Local\\Temp\\ipykernel_13704\\1844066360.py:5: FutureWarning: DataFrame.applymap has been deprecated. Use DataFrame.map instead.\n",
      "  data[data.select_dtypes(include='bool').columns] = data[data.select_dtypes(include='bool').columns].applymap(lambda x: mapping[x])\n"
     ]
    }
   ],
   "source": [
    "# Criando um dicionário de mapeamento\n",
    "mapping = {True: 1.0, False: 0.0}\n",
    "\n",
    "# Aplicando o mapeamento a todas as colunas do tipo booleano usando applymap\n",
    "data[data.select_dtypes(include='bool').columns] = data[data.select_dtypes(include='bool').columns].applymap(lambda x: mapping[x])"
   ]
  },
  {
   "cell_type": "markdown",
   "metadata": {},
   "source": [
    "## Correlação, Colinearidade e Estacionaridade\n",
    "Maneiras de estabelecer um padrão e explicar os dados\n",
    "1. Correlação & Colinearidade\n",
    "Quando os recursos são colineares, a permutação de um recurso tem pouco efeito no desempenho do modelo porque pode obter as mesmas informações de um recurso correlacionado.\n",
    "\n",
    "2. Estacionaridade\n",
    "A série temporal não exibe tendências sistemáticas, sazonalidade ou variação de variância ao longo do tempo.\n",
    "Algoritmos com base em regressão pressuepõem que as estatísticas descritivas dos dados permaneçam constantes ao longo do tempo.\n",
    "\n",
    "Nota.\n",
    "A estacionaridade vai variar de cliente para cliente.\n",
    "Por ser um valor estatistico, o resultado é p<0.5 = 1, senao 0, para cada coluna. Introduzir valores boleanos pode nao fazer sentido visto alguns produtos serem zero.\n",
    "* Algo para validar posteriormente."
   ]
  },
  {
   "cell_type": "markdown",
   "metadata": {},
   "source": [
    "### Corr & Colinear"
   ]
  },
  {
   "cell_type": "code",
   "execution_count": 21,
   "metadata": {},
   "outputs": [
    {
     "data": {
      "text/plain": [
       "float64    43\n",
       "object     14\n",
       "int64       7\n",
       "Name: count, dtype: int64"
      ]
     },
     "execution_count": 21,
     "metadata": {},
     "output_type": "execute_result"
    }
   ],
   "source": [
    "data.dtypes.value_counts()"
   ]
  },
  {
   "cell_type": "code",
   "execution_count": 22,
   "metadata": {},
   "outputs": [
    {
     "data": {
      "text/plain": [
       "['label_encoder.joblib']"
      ]
     },
     "execution_count": 22,
     "metadata": {},
     "output_type": "execute_result"
    }
   ],
   "source": [
    "# Encoding object columns and saving the map\n",
    "from collections import defaultdict\n",
    "from sklearn import preprocessing\n",
    "import joblib\n",
    "\n",
    "#\n",
    "data_set = data.drop(['ano_mes/mes','evasao_pl','is_fake'], axis=1)\n",
    "\n",
    "d = defaultdict(preprocessing.LabelEncoder)\n",
    "\n",
    "class MultiColumnLabelEncoder:\n",
    "    def __init__(self,columns = None):\n",
    "        self.columns = columns # array of column names to encode\n",
    "\n",
    "    def fit(self,X,y=None):\n",
    "        return self # not relevant here\n",
    "\n",
    "    def transform(self,X):\n",
    "        '''\n",
    "        Transforms columns of X specified in self.columns using\n",
    "        LabelEncoder(). If no columns specified, transforms all\n",
    "        columns in X.\n",
    "        '''\n",
    "        output = X.copy()\n",
    "        if self.columns is not None:\n",
    "            for col in self.columns:\n",
    "                output[col] = d[col].fit_transform(output[col])\n",
    "        else:\n",
    "            for colname,col in output.iteritems():\n",
    "                output[colname] = d[colname].fit_transform(col)\n",
    "        return output\n",
    "\n",
    "    def fit_transform(self,X,y=None):\n",
    "        return self.fit(X,y).transform(X)\n",
    "\n",
    "dataframe_columns = data.select_dtypes('object').columns.to_list()\n",
    "data_set = MultiColumnLabelEncoder(columns=dataframe_columns).fit_transform(data)\n",
    "\n",
    "joblib.dump(d, 'label_encoder.joblib')"
   ]
  },
  {
   "cell_type": "code",
   "execution_count": 23,
   "metadata": {},
   "outputs": [
    {
     "name": "stderr",
     "output_type": "stream",
     "text": [
      "c:\\Users\\Wande\\AppData\\Local\\Programs\\Python\\Python39\\lib\\site-packages\\numpy\\lib\\function_base.py:2854: RuntimeWarning: invalid value encountered in divide\n",
      "  c /= stddev[:, None]\n",
      "c:\\Users\\Wande\\AppData\\Local\\Programs\\Python\\Python39\\lib\\site-packages\\numpy\\lib\\function_base.py:2855: RuntimeWarning: invalid value encountered in divide\n",
      "  c /= stddev[None, :]\n"
     ]
    },
    {
     "data": {
      "image/png": "[encoded data removed]",
      "text/plain": [
       "<Figure size 1200x600 with 1 Axes>"
      ]
     },
     "metadata": {},
     "output_type": "display_data"
    }
   ],
   "source": [
    "# Multicolinearidade visualização\n",
    "import numpy as np\n",
    "import matplotlib.pyplot as plt\n",
    "from scipy.cluster import hierarchy\n",
    "from scipy.spatial.distance import squareform\n",
    "from scipy.stats import spearmanr\n",
    "\n",
    "corr = np.round(spearmanr(data_set).correlation, 4)\n",
    "\n",
    "# Ensure the correlation matrix is symmetric\n",
    "corr = (corr + corr.T) / 2\n",
    "np.fill_diagonal(corr, 1)\n",
    "\n",
    "fig, ax = plt.subplots(figsize=(12, 6))\n",
    "\n",
    "distance_matrix = 1 - np.abs(np.nan_to_num(corr))\n",
    "dist_linkage = hierarchy.ward(squareform(distance_matrix))\n",
    "dendro = hierarchy.dendrogram(\n",
    "    dist_linkage, labels=data_set.columns.to_list(),\n",
    "    ax=ax,\n",
    "    leaf_rotation=90\n",
    ")"
   ]
  },
  {
   "cell_type": "code",
   "execution_count": 24,
   "metadata": {},
   "outputs": [],
   "source": [
    "from collections import defaultdict\n",
    "\n",
    "cluster_ids = hierarchy.fcluster(dist_linkage, 0.9, criterion=\"distance\")\n",
    "cluster_id_to_feature_ids = defaultdict(list)\n",
    "for idx, cluster_id in enumerate(cluster_ids):\n",
    "    cluster_id_to_feature_ids[cluster_id].append(idx)\n",
    "selected_features = [v[0] for v in cluster_id_to_feature_ids.values()]\n",
    "selected_features_names = data_set.columns[selected_features]"
   ]
  },
  {
   "cell_type": "code",
   "execution_count": 25,
   "metadata": {},
   "outputs": [
    {
     "data": {
      "text/plain": [
       "['patrimonio_total',\n",
       " 'ano_mes/mes',\n",
       " 'pl_kilima',\n",
       " 'pl_offshore_brl',\n",
       " 'pl_offshore_brl_avenue',\n",
       " 'pl_offshore_usd_avenue',\n",
       " 'pl_rv',\n",
       " 'pl_wealth',\n",
       " 'posicao_aluguel',\n",
       " 'posicao_clubesdeinvestimento',\n",
       " 'posicao_coe',\n",
       " 'posicao_compromissadas',\n",
       " 'posicao_fia',\n",
       " 'posicao_mercadoriasefuturos',\n",
       " 'posicao_ouro',\n",
       " 'posicao_previdenciaprivada',\n",
       " 'posicao_seguros',\n",
       " 'saldo_disponivel',\n",
       " 'assessor_username_m1',\n",
       " 'equipe_atual_name',\n",
       " 'faixa_pld',\n",
       " 'filial_name',\n",
       " 'flag_base_adquirida',\n",
       " 'life_planning_stage',\n",
       " 'monthly_income',\n",
       " 'nps_enviado',\n",
       " 'total_first_meetings',\n",
       " 'evadido',\n",
       " 'main_bank_name',\n",
       " 'occupation',\n",
       " 'is_fake',\n",
       " 'posicao_opcao',\n",
       " 'total_contato',\n",
       " 'evasao_pl']"
      ]
     },
     "execution_count": 25,
     "metadata": {},
     "output_type": "execute_result"
    }
   ],
   "source": [
    "# Criando um subset\n",
    "sub_data = data_set[selected_features_names].copy()\n",
    "\n",
    "# Adicionando o evasao_pl\n",
    "sub_data['evadido'] = data['evadido']\n",
    "sub_data['evasao_pl'] = data['evasao_pl']\n",
    "sub_data['ano_mes/mes'] = data['ano_mes/mes']\n",
    "\n",
    "# Colunas selecionadas pela correlação/colineares\n",
    "sub_data.columns.to_list()"
   ]
  },
  {
   "cell_type": "code",
   "execution_count": null,
   "metadata": {},
   "outputs": [],
   "source": [
    "from statsmodels.tsa.stattools import adfuller\n",
    "\n",
    "# Agrupar por ano_mes/mes e calcular a soma dos produtos e churn\n",
    "df_agrupado = sub_data.groupby(sub_data.index).max()[:5]\n",
    "\n",
    "# Teste de Estacionaridade para cada produto e churn\n",
    "for col in df_agrupado.columns[:-1]:\n",
    "    for key in df_agrupado.index:\n",
    "        try:\n",
    "            resultado_adf = adfuller(sub_data.loc[key, col])\n",
    "            df_agrupado.loc[key, col] = 'estacionario' if resultado_adf[1]<0.5 else 'nao_estacionario'\n",
    "        except Exception as error:\n",
    "            df_agrupado.loc[key, col] = 'estacionario' "
   ]
  },
  {
   "cell_type": "code",
   "execution_count": null,
   "metadata": {},
   "outputs": [],
   "source": [
    "df_agrupado"
   ]
  },
  {
   "cell_type": "markdown",
   "metadata": {},
   "source": [
    "## Sazonalidade\n"
   ]
  },
  {
   "cell_type": "code",
   "execution_count": 29,
   "metadata": {},
   "outputs": [],
   "source": [
    "# Base para filtrar para rolling windows\n",
    "nova_base = sub_data.filter(['ano_mes/mes','mes',\n",
    "                            'patrimonio_total',\n",
    "                            'pl_kilima',\n",
    "                            'pl_offshore_brl',\n",
    "                            'pl_offshore_brl_avenue',\n",
    "                            'pl_offshore_usd_avenue',\n",
    "                            'pl_rv',\n",
    "                            'pl_wealth',\n",
    "                            'posicao_aluguel',\n",
    "                            'posicao_clubesdeinvestimento',\n",
    "                            'posicao_coe',\n",
    "                            'posicao_compromissadas',\n",
    "                            'posicao_fia',\n",
    "                            'posicao_mercadoriasefuturos',\n",
    "                            'posicao_ouro',\n",
    "                            'posicao_previdenciaprivada',\n",
    "                            'posicao_seguros',\n",
    "                            'saldo_disponivel'\n",
    "])\n",
    "\n",
    "base_teste = nova_base.iloc[:,1:].copy()"
   ]
  },
  {
   "cell_type": "code",
   "execution_count": 31,
   "metadata": {},
   "outputs": [],
   "source": [
    "# Rolling Windows (54.7s)\n",
    "\"\"\"Essa função é útil para calcular medidas de volatilidade, \n",
    "como o desvio padrão, em janelas rolantes, ajudando a entender\n",
    "a estabilidade ou instabilidade dos dados ao longo do tempo\"\"\"\n",
    "\n",
    "# adicionar cada xp_code como chave no dict\n",
    "pt_rolling = pd.DataFrame()\n",
    "\n",
    "for key in base_teste.index.unique():\n",
    "    temp = pd.DataFrame()\n",
    "    for col in base_teste.columns:\n",
    "        cols = f\"{col}_rolling\"\n",
    "        s = pd.DataFrame(data=base_teste.loc[key, col].rolling(window=3).mean()) \n",
    "        s.rename(columns={col: cols}, inplace=True)\n",
    "        temp=pd.concat([temp, s], axis=1)\n",
    "    pt_rolling = pd.concat([pt_rolling, temp], axis=0)\n",
    "\n",
    "# Preenchendo com 0\n",
    "pt_rolling.fillna(0, inplace=True)\n",
    "pt_rolling.replace([np.inf, -np.inf], 0.0, inplace=True)"
   ]
  },
  {
   "cell_type": "code",
   "execution_count": 32,
   "metadata": {},
   "outputs": [],
   "source": [
    "# Variação percentual (1m 9.7s)\n",
    "\"\"\"Essa função é útil quando você está interessado nas variações\n",
    "percentuais entre os pontos de dados consecutivos, como a\n",
    "taxa de crescimento ou declínio de uma série temporal.\"\"\"\n",
    "\n",
    "# adicionar cada xp_code como chave no dict\n",
    "pt_var_percent = pd.DataFrame()\n",
    "\n",
    "for key in base_teste.index.unique():\n",
    "    temp = pd.DataFrame()\n",
    "    for col in base_teste.columns:\n",
    "        cols = f\"{col}_var_perc\"\n",
    "        s = pd.DataFrame(data=base_teste.loc[key, col].pct_change()*100) \n",
    "        s.rename(columns={col: cols}, inplace=True)\n",
    "        temp=pd.concat([temp, s], axis=1)\n",
    "    pt_var_percent = pd.concat([pt_var_percent, temp], axis=0)\n",
    "\n",
    "# Preenchendo com 0\n",
    "pt_var_percent.fillna(0, inplace=True)\n",
    "pt_var_percent.replace([np.inf, -np.inf], 0.0, inplace=True)"
   ]
  },
  {
   "cell_type": "code",
   "execution_count": 33,
   "metadata": {},
   "outputs": [],
   "source": [
    "# Diferenciação (48.6s)\n",
    "\"\"\"Essa função é útil quando você está interessado na diferença\n",
    "absoluta entre os pontos de dados consecutivos, sem considerar\n",
    "a escala ou a direção da mudança.\"\"\"\n",
    "\n",
    "# adicionar cada xp_code como chave no dict\n",
    "pt_diff = pd.DataFrame()\n",
    "\n",
    "for key in base_teste.index.unique():\n",
    "    temp = pd.DataFrame()\n",
    "    for col in base_teste.columns:\n",
    "        cols = f\"{col}_diff\"\n",
    "        s = pd.DataFrame(data=base_teste.loc[key, col].diff()) \n",
    "        s.rename(columns={col: cols}, inplace=True)\n",
    "        temp=pd.concat([temp, s], axis=1)\n",
    "    pt_diff = pd.concat([pt_diff, temp], axis=0)\n",
    "\n",
    "# Preenchendo com 0\n",
    "pt_diff.fillna(0, inplace=True)\n",
    "pt_diff.replace([np.inf, -np.inf], 0.0, inplace=True)"
   ]
  },
  {
   "cell_type": "code",
   "execution_count": 34,
   "metadata": {},
   "outputs": [],
   "source": [
    "# PL/CDI\n",
    "\"\"\"Calcular a razão proporcional entre o pl e o cdi.\"\"\"\n",
    "\n",
    "cdi_df = pd.DataFrame({\n",
    "    'ano_mes/mes':['2023-05','2023-06','2023-07','2023-08','2023-09',\n",
    "            '2023-10','2023-11','2023-12','2024-01','2024-02',\n",
    "            '2024-03', '2024-04', '2024-05'],\n",
    "    'CDI_acum':[13.47, 13.52, 13.57, 13.53, 13.42, 13.40,\n",
    "                13.29, 13.03, 12.86, 12.73, 12.35, 12.31, 12.31]\n",
    "    })\n",
    "\n",
    "cdi_data = pd.merge(sub_data, cdi_df, on='ano_mes/mes', how='left').set_index(sub_data.index)\n",
    "\n",
    "# Criando razão do cdi\n",
    "cdi_data['cdi_razao'] = cdi_data['patrimonio_total'] / cdi_data['CDI_acum']"
   ]
  },
  {
   "cell_type": "code",
   "execution_count": 35,
   "metadata": {},
   "outputs": [],
   "source": [
    "# PL_(PRODUTO) / PATRIMONIO (56s)\n",
    "\"\"\"Calcula a razao em proporcao de cada paramentro em relacao ao patrimonio.\"\"\"\n",
    "pt_percent = pd.DataFrame()\n",
    "\n",
    "for key in base_teste.index.unique():\n",
    "    temp = pd.DataFrame()\n",
    "    for col in base_teste.columns:\n",
    "        cols = f\"{col}_pct\"\n",
    "        s = pd.DataFrame(data=base_teste.loc[key, 'patrimonio_total']/base_teste.loc[key, col]) \n",
    "        s.rename(columns={0: cols}, inplace=True)\n",
    "        temp=pd.concat([temp, s], axis=1)\n",
    "    pt_percent = pd.concat([pt_percent, temp], axis=0)\n",
    "    \n",
    "# Removendo patrimonio_total\n",
    "pt_percent.drop(['patrimonio_total'], axis=1, inplace=True)\n",
    "\n",
    "# Preenchendo com 0\n",
    "pt_percent.fillna(0, inplace=True)\n",
    "pt_percent.replace([np.inf, -np.inf], 0.0, inplace=True)"
   ]
  },
  {
   "cell_type": "markdown",
   "metadata": {},
   "source": [
    "## Criando um novo dataset"
   ]
  },
  {
   "cell_type": "code",
   "execution_count": 36,
   "metadata": {},
   "outputs": [],
   "source": [
    "# Selecionando os dados categoricos\n",
    "data_cat = cdi_data.filter(['ano_mes/mes', 'mes', 'evadido',\n",
    "    'assessor_username_m1', 'equipe_atual_name', 'faixa_pld', 'filial_name',\n",
    "    'flag_base_adquirida', 'life_planning_stage', 'monthly_income',\n",
    "    'nps_enviado', 'total_first_meetings', 'main_bank_name', 'occupation',\n",
    "    'posicao_opcao', 'total_contato', 'cdi_razao', 'evasao_pl'])"
   ]
  },
  {
   "cell_type": "code",
   "execution_count": 37,
   "metadata": {},
   "outputs": [],
   "source": [
    "# Concatenando tudo\n",
    "set_1 = pd.concat([data_cat, pt_rolling], axis=1)\n",
    "set_2 = pd.concat([set_1, pt_var_percent], axis=1)\n",
    "set_3 = pd.concat([set_2, pt_diff], axis=1)"
   ]
  },
  {
   "cell_type": "code",
   "execution_count": 40,
   "metadata": {},
   "outputs": [],
   "source": [
    "# salvando set_3\n",
    "set_3.to_csv('14052024_nova_base_3K.csv')"
   ]
  }
 ],
 "metadata": {
  "kernelspec": {
   "display_name": "Python 3",
   "language": "python",
   "name": "python3"
  },
  "language_info": {
   "codemirror_mode": {
    "name": "ipython",
    "version": 3
   },
   "file_extension": ".py",
   "mimetype": "text/x-python",
   "name": "python",
   "nbconvert_exporter": "python",
   "pygments_lexer": "ipython3",
   "version": "3.9.13"
  }
 },
 "nbformat": 4,
 "nbformat_minor": 2
}
